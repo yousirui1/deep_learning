{
 "cells": [
  {
   "cell_type": "code",
   "execution_count": null,
   "id": "506887cf",
   "metadata": {},
   "outputs": [],
   "source": [
    "from soundfile import SoundFile, SEEK_END\n",
    "import numpy as np\n",
    "from IPython import display\n",
    "import soundfile as sf\n",
    "\n",
    "wav_data, sr = sf.read('/home/ysr/test/test.wav', dtype=np.int32)\n",
    "\n",
    "wav_data= np.mean(wav_data, axis=1, dtype=wav_data.dtype)\n",
    "display.Audio(wav_data, rate=sr)\n",
    "\n",
    "print(wav_data)"
   ]
  },
  {
   "cell_type": "code",
   "execution_count": null,
   "id": "5286e899",
   "metadata": {},
   "outputs": [],
   "source": [
    "display.Audio(wav_data, rate=sr)"
   ]
  },
  {
   "cell_type": "code",
   "execution_count": null,
   "id": "0e2e444a",
   "metadata": {},
   "outputs": [],
   "source": [
    "wav_data = wav_data[sr * 2: sr * 0]\n",
    "display.Audio(wav_data, rate=sr)"
   ]
  }
 ],
 "metadata": {
  "kernelspec": {
   "display_name": "Python 3 (ipykernel)",
   "language": "python",
   "name": "python3"
  },
  "language_info": {
   "codemirror_mode": {
    "name": "ipython",
    "version": 3
   },
   "file_extension": ".py",
   "mimetype": "text/x-python",
   "name": "python",
   "nbconvert_exporter": "python",
   "pygments_lexer": "ipython3",
   "version": "3.8.3"
  }
 },
 "nbformat": 4,
 "nbformat_minor": 5
}
